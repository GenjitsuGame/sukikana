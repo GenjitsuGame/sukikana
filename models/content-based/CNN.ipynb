{
 "cells": [
  {
   "cell_type": "code",
   "execution_count": 166,
   "metadata": {},
   "outputs": [],
   "source": [
    "import keras\n",
    "from keras.activations import relu, tanh\n",
    "from keras.callbacks import TensorBoard, EarlyStopping\n",
    "from keras.layers import Conv2D, Dense, Flatten, MaxPool2D, LeakyReLU\n",
    "from keras.losses import MSE\n",
    "from keras.metrics import mse\n",
    "from keras.models import Sequential\n",
    "from keras.optimizers import RMSprop, Adam\n",
    "import boto3\n",
    "import pandas as pd\n",
    "from tempfile import  NamedTemporaryFile\n",
    "from librosa.feature import melspectrogram\n",
    "import librosa\n",
    "import numpy as np\n",
    "import time\n",
    "import requests\n",
    "import json\n",
    "import pickle\n",
    "import sklearn.metrics as metrics"
   ]
  },
  {
   "cell_type": "code",
   "execution_count": 2,
   "metadata": {},
   "outputs": [],
   "source": [
    "boto_session = boto3.session.Session(region_name='eu-west-3')\n",
    "songs_csv_path = 'https://s3.eu-west-3.amazonaws.com/sukikana-msd/full_dataset_10k.csv'\n"
   ]
  },
  {
   "cell_type": "code",
   "execution_count": 2,
   "metadata": {},
   "outputs": [],
   "source": [
    "meta_csv_path = '../../data/training_meta.csv'\n",
    "song_factors_csv_path = '../../data/song_factors.csv'\n",
    "user_factors_csv_path = '../../data/user_factors.csv'\n",
    "taste_csv_path = '../../data/training_cf.{}.csv'"
   ]
  },
  {
   "cell_type": "code",
   "execution_count": 4,
   "metadata": {},
   "outputs": [],
   "source": [
    "df_meta = pd.read_csv(meta_csv_path, sep=';')\n",
    "df_song_factors = pd.read_csv(song_factors_csv_path, sep=';', index_col='song_id')\n",
    "df_user_factors = pd.read_csv(user_factors_csv_path, sep=';', index_col='user_id')\n",
    "df_taste = pd.concat([pd.read_csv(taste_csv_path.format(i), sep=';') for i in range(4)])"
   ]
  },
  {
   "cell_type": "code",
   "execution_count": 3,
   "metadata": {},
   "outputs": [],
   "source": [
    "api = 'http://localhost:3099/api/v1/songs'"
   ]
  },
  {
   "cell_type": "code",
   "execution_count": 5,
   "metadata": {},
   "outputs": [],
   "source": [
    "api = 'http://35.189.106.213:3000/api/v1/songs'"
   ]
  },
  {
   "cell_type": "code",
   "execution_count": 24,
   "metadata": {},
   "outputs": [],
   "source": [
    "latents = []\n",
    "mels = []\n",
    "indices = []"
   ]
  },
  {
   "cell_type": "code",
   "execution_count": 12,
   "metadata": {
    "scrolled": true
   },
   "outputs": [
    {
     "data": {
      "text/plain": [
       "50"
      ]
     },
     "execution_count": 12,
     "metadata": {},
     "output_type": "execute_result"
    }
   ],
   "source": [
    "req_get = requests.get(api, params={'skip': 0, 'limit': 50})# song.song_id})\n",
    "req_get.raise_for_status()\n",
    "res_get = req_get.json()\n",
    "len(res_get)"
   ]
  },
  {
   "cell_type": "code",
   "execution_count": 48,
   "metadata": {
    "scrolled": true
   },
   "outputs": [
    {
     "name": "stdout",
     "output_type": "stream",
     "text": [
      "2475\n",
      "2520\n",
      "2565\n",
      "2610\n",
      "2655\n",
      "2700\n",
      "2745\n",
      "2790\n",
      "2835\n"
     ]
    },
    {
     "ename": "KeyboardInterrupt",
     "evalue": "",
     "output_type": "error",
     "traceback": [
      "\u001b[0;31m---------------------------------------------------------------------------\u001b[0m",
      "\u001b[0;31mTypeError\u001b[0m                                 Traceback (most recent call last)",
      "\u001b[0;32m~/.pyenv/versions/anaconda3-4.4.0/envs/sukikana-content-based-model/lib/python3.6/site-packages/urllib3/connectionpool.py\u001b[0m in \u001b[0;36m_make_request\u001b[0;34m(self, conn, method, url, timeout, chunked, **httplib_request_kw)\u001b[0m\n\u001b[1;32m    376\u001b[0m             \u001b[0;32mtry\u001b[0m\u001b[0;34m:\u001b[0m  \u001b[0;31m# Python 2.7, use buffering of HTTP responses\u001b[0m\u001b[0;34m\u001b[0m\u001b[0m\n\u001b[0;32m--> 377\u001b[0;31m                 \u001b[0mhttplib_response\u001b[0m \u001b[0;34m=\u001b[0m \u001b[0mconn\u001b[0m\u001b[0;34m.\u001b[0m\u001b[0mgetresponse\u001b[0m\u001b[0;34m(\u001b[0m\u001b[0mbuffering\u001b[0m\u001b[0;34m=\u001b[0m\u001b[0;32mTrue\u001b[0m\u001b[0;34m)\u001b[0m\u001b[0;34m\u001b[0m\u001b[0m\n\u001b[0m\u001b[1;32m    378\u001b[0m             \u001b[0;32mexcept\u001b[0m \u001b[0mTypeError\u001b[0m\u001b[0;34m:\u001b[0m  \u001b[0;31m# Python 2.6 and older, Python 3\u001b[0m\u001b[0;34m\u001b[0m\u001b[0m\n",
      "\u001b[0;31mTypeError\u001b[0m: getresponse() got an unexpected keyword argument 'buffering'",
      "\nDuring handling of the above exception, another exception occurred:\n",
      "\u001b[0;31mKeyboardInterrupt\u001b[0m                         Traceback (most recent call last)",
      "\u001b[0;32m<ipython-input-48-36d90fca852a>\u001b[0m in \u001b[0;36m<module>\u001b[0;34m()\u001b[0m\n\u001b[1;32m      1\u001b[0m \u001b[0;32mfor\u001b[0m \u001b[0mi\u001b[0m \u001b[0;32min\u001b[0m \u001b[0mrange\u001b[0m\u001b[0;34m(\u001b[0m\u001b[0;36m2475\u001b[0m\u001b[0;34m,\u001b[0m \u001b[0;36m10000\u001b[0m\u001b[0;34m,\u001b[0m \u001b[0;36m45\u001b[0m\u001b[0;34m)\u001b[0m\u001b[0;34m:\u001b[0m\u001b[0;34m\u001b[0m\u001b[0m\n\u001b[1;32m      2\u001b[0m     \u001b[0mprint\u001b[0m\u001b[0;34m(\u001b[0m\u001b[0mi\u001b[0m\u001b[0;34m)\u001b[0m\u001b[0;34m\u001b[0m\u001b[0m\n\u001b[0;32m----> 3\u001b[0;31m     \u001b[0mreq_get\u001b[0m \u001b[0;34m=\u001b[0m \u001b[0mrequests\u001b[0m\u001b[0;34m.\u001b[0m\u001b[0mget\u001b[0m\u001b[0;34m(\u001b[0m\u001b[0mapi\u001b[0m\u001b[0;34m,\u001b[0m \u001b[0mparams\u001b[0m\u001b[0;34m=\u001b[0m\u001b[0;34m{\u001b[0m\u001b[0;34m'skip'\u001b[0m\u001b[0;34m:\u001b[0m \u001b[0mi\u001b[0m\u001b[0;34m,\u001b[0m \u001b[0;34m'limit'\u001b[0m\u001b[0;34m:\u001b[0m \u001b[0;36m45\u001b[0m\u001b[0;34m,\u001b[0m \u001b[0;34m'select'\u001b[0m\u001b[0;34m:\u001b[0m \u001b[0;34m{\u001b[0m\u001b[0;34m'msdId'\u001b[0m\u001b[0;34m:\u001b[0m \u001b[0;36m1\u001b[0m\u001b[0;34m}\u001b[0m\u001b[0;34m}\u001b[0m\u001b[0;34m)\u001b[0m\u001b[0;31m# song.song_id})\u001b[0m\u001b[0;34m\u001b[0m\u001b[0m\n\u001b[0m\u001b[1;32m      4\u001b[0m     \u001b[0mreq_get\u001b[0m\u001b[0;34m.\u001b[0m\u001b[0mraise_for_status\u001b[0m\u001b[0;34m(\u001b[0m\u001b[0;34m)\u001b[0m\u001b[0;34m\u001b[0m\u001b[0m\n\u001b[1;32m      5\u001b[0m     \u001b[0mres_get\u001b[0m \u001b[0;34m=\u001b[0m \u001b[0mreq_get\u001b[0m\u001b[0;34m.\u001b[0m\u001b[0mjson\u001b[0m\u001b[0;34m(\u001b[0m\u001b[0;34m)\u001b[0m\u001b[0;34m\u001b[0m\u001b[0m\n",
      "\u001b[0;32m~/.pyenv/versions/anaconda3-4.4.0/envs/sukikana-content-based-model/lib/python3.6/site-packages/requests/api.py\u001b[0m in \u001b[0;36mget\u001b[0;34m(url, params, **kwargs)\u001b[0m\n\u001b[1;32m     70\u001b[0m \u001b[0;34m\u001b[0m\u001b[0m\n\u001b[1;32m     71\u001b[0m     \u001b[0mkwargs\u001b[0m\u001b[0;34m.\u001b[0m\u001b[0msetdefault\u001b[0m\u001b[0;34m(\u001b[0m\u001b[0;34m'allow_redirects'\u001b[0m\u001b[0;34m,\u001b[0m \u001b[0;32mTrue\u001b[0m\u001b[0;34m)\u001b[0m\u001b[0;34m\u001b[0m\u001b[0m\n\u001b[0;32m---> 72\u001b[0;31m     \u001b[0;32mreturn\u001b[0m \u001b[0mrequest\u001b[0m\u001b[0;34m(\u001b[0m\u001b[0;34m'get'\u001b[0m\u001b[0;34m,\u001b[0m \u001b[0murl\u001b[0m\u001b[0;34m,\u001b[0m \u001b[0mparams\u001b[0m\u001b[0;34m=\u001b[0m\u001b[0mparams\u001b[0m\u001b[0;34m,\u001b[0m \u001b[0;34m**\u001b[0m\u001b[0mkwargs\u001b[0m\u001b[0;34m)\u001b[0m\u001b[0;34m\u001b[0m\u001b[0m\n\u001b[0m\u001b[1;32m     73\u001b[0m \u001b[0;34m\u001b[0m\u001b[0m\n\u001b[1;32m     74\u001b[0m \u001b[0;34m\u001b[0m\u001b[0m\n",
      "\u001b[0;32m~/.pyenv/versions/anaconda3-4.4.0/envs/sukikana-content-based-model/lib/python3.6/site-packages/requests/api.py\u001b[0m in \u001b[0;36mrequest\u001b[0;34m(method, url, **kwargs)\u001b[0m\n\u001b[1;32m     56\u001b[0m     \u001b[0;31m# cases, and look like a memory leak in others.\u001b[0m\u001b[0;34m\u001b[0m\u001b[0;34m\u001b[0m\u001b[0m\n\u001b[1;32m     57\u001b[0m     \u001b[0;32mwith\u001b[0m \u001b[0msessions\u001b[0m\u001b[0;34m.\u001b[0m\u001b[0mSession\u001b[0m\u001b[0;34m(\u001b[0m\u001b[0;34m)\u001b[0m \u001b[0;32mas\u001b[0m \u001b[0msession\u001b[0m\u001b[0;34m:\u001b[0m\u001b[0;34m\u001b[0m\u001b[0m\n\u001b[0;32m---> 58\u001b[0;31m         \u001b[0;32mreturn\u001b[0m \u001b[0msession\u001b[0m\u001b[0;34m.\u001b[0m\u001b[0mrequest\u001b[0m\u001b[0;34m(\u001b[0m\u001b[0mmethod\u001b[0m\u001b[0;34m=\u001b[0m\u001b[0mmethod\u001b[0m\u001b[0;34m,\u001b[0m \u001b[0murl\u001b[0m\u001b[0;34m=\u001b[0m\u001b[0murl\u001b[0m\u001b[0;34m,\u001b[0m \u001b[0;34m**\u001b[0m\u001b[0mkwargs\u001b[0m\u001b[0;34m)\u001b[0m\u001b[0;34m\u001b[0m\u001b[0m\n\u001b[0m\u001b[1;32m     59\u001b[0m \u001b[0;34m\u001b[0m\u001b[0m\n\u001b[1;32m     60\u001b[0m \u001b[0;34m\u001b[0m\u001b[0m\n",
      "\u001b[0;32m~/.pyenv/versions/anaconda3-4.4.0/envs/sukikana-content-based-model/lib/python3.6/site-packages/requests/sessions.py\u001b[0m in \u001b[0;36mrequest\u001b[0;34m(self, method, url, params, data, headers, cookies, files, auth, timeout, allow_redirects, proxies, hooks, stream, verify, cert, json)\u001b[0m\n\u001b[1;32m    510\u001b[0m         }\n\u001b[1;32m    511\u001b[0m         \u001b[0msend_kwargs\u001b[0m\u001b[0;34m.\u001b[0m\u001b[0mupdate\u001b[0m\u001b[0;34m(\u001b[0m\u001b[0msettings\u001b[0m\u001b[0;34m)\u001b[0m\u001b[0;34m\u001b[0m\u001b[0m\n\u001b[0;32m--> 512\u001b[0;31m         \u001b[0mresp\u001b[0m \u001b[0;34m=\u001b[0m \u001b[0mself\u001b[0m\u001b[0;34m.\u001b[0m\u001b[0msend\u001b[0m\u001b[0;34m(\u001b[0m\u001b[0mprep\u001b[0m\u001b[0;34m,\u001b[0m \u001b[0;34m**\u001b[0m\u001b[0msend_kwargs\u001b[0m\u001b[0;34m)\u001b[0m\u001b[0;34m\u001b[0m\u001b[0m\n\u001b[0m\u001b[1;32m    513\u001b[0m \u001b[0;34m\u001b[0m\u001b[0m\n\u001b[1;32m    514\u001b[0m         \u001b[0;32mreturn\u001b[0m \u001b[0mresp\u001b[0m\u001b[0;34m\u001b[0m\u001b[0m\n",
      "\u001b[0;32m~/.pyenv/versions/anaconda3-4.4.0/envs/sukikana-content-based-model/lib/python3.6/site-packages/requests/sessions.py\u001b[0m in \u001b[0;36msend\u001b[0;34m(self, request, **kwargs)\u001b[0m\n\u001b[1;32m    620\u001b[0m \u001b[0;34m\u001b[0m\u001b[0m\n\u001b[1;32m    621\u001b[0m         \u001b[0;31m# Send the request\u001b[0m\u001b[0;34m\u001b[0m\u001b[0;34m\u001b[0m\u001b[0m\n\u001b[0;32m--> 622\u001b[0;31m         \u001b[0mr\u001b[0m \u001b[0;34m=\u001b[0m \u001b[0madapter\u001b[0m\u001b[0;34m.\u001b[0m\u001b[0msend\u001b[0m\u001b[0;34m(\u001b[0m\u001b[0mrequest\u001b[0m\u001b[0;34m,\u001b[0m \u001b[0;34m**\u001b[0m\u001b[0mkwargs\u001b[0m\u001b[0;34m)\u001b[0m\u001b[0;34m\u001b[0m\u001b[0m\n\u001b[0m\u001b[1;32m    623\u001b[0m \u001b[0;34m\u001b[0m\u001b[0m\n\u001b[1;32m    624\u001b[0m         \u001b[0;31m# Total elapsed time of the request (approximately)\u001b[0m\u001b[0;34m\u001b[0m\u001b[0;34m\u001b[0m\u001b[0m\n",
      "\u001b[0;32m~/.pyenv/versions/anaconda3-4.4.0/envs/sukikana-content-based-model/lib/python3.6/site-packages/requests/adapters.py\u001b[0m in \u001b[0;36msend\u001b[0;34m(self, request, stream, timeout, verify, cert, proxies)\u001b[0m\n\u001b[1;32m    443\u001b[0m                     \u001b[0mdecode_content\u001b[0m\u001b[0;34m=\u001b[0m\u001b[0;32mFalse\u001b[0m\u001b[0;34m,\u001b[0m\u001b[0;34m\u001b[0m\u001b[0m\n\u001b[1;32m    444\u001b[0m                     \u001b[0mretries\u001b[0m\u001b[0;34m=\u001b[0m\u001b[0mself\u001b[0m\u001b[0;34m.\u001b[0m\u001b[0mmax_retries\u001b[0m\u001b[0;34m,\u001b[0m\u001b[0;34m\u001b[0m\u001b[0m\n\u001b[0;32m--> 445\u001b[0;31m                     \u001b[0mtimeout\u001b[0m\u001b[0;34m=\u001b[0m\u001b[0mtimeout\u001b[0m\u001b[0;34m\u001b[0m\u001b[0m\n\u001b[0m\u001b[1;32m    446\u001b[0m                 )\n\u001b[1;32m    447\u001b[0m \u001b[0;34m\u001b[0m\u001b[0m\n",
      "\u001b[0;32m~/.pyenv/versions/anaconda3-4.4.0/envs/sukikana-content-based-model/lib/python3.6/site-packages/urllib3/connectionpool.py\u001b[0m in \u001b[0;36murlopen\u001b[0;34m(self, method, url, body, headers, retries, redirect, assert_same_host, timeout, pool_timeout, release_conn, chunked, body_pos, **response_kw)\u001b[0m\n\u001b[1;32m    598\u001b[0m                                                   \u001b[0mtimeout\u001b[0m\u001b[0;34m=\u001b[0m\u001b[0mtimeout_obj\u001b[0m\u001b[0;34m,\u001b[0m\u001b[0;34m\u001b[0m\u001b[0m\n\u001b[1;32m    599\u001b[0m                                                   \u001b[0mbody\u001b[0m\u001b[0;34m=\u001b[0m\u001b[0mbody\u001b[0m\u001b[0;34m,\u001b[0m \u001b[0mheaders\u001b[0m\u001b[0;34m=\u001b[0m\u001b[0mheaders\u001b[0m\u001b[0;34m,\u001b[0m\u001b[0;34m\u001b[0m\u001b[0m\n\u001b[0;32m--> 600\u001b[0;31m                                                   chunked=chunked)\n\u001b[0m\u001b[1;32m    601\u001b[0m \u001b[0;34m\u001b[0m\u001b[0m\n\u001b[1;32m    602\u001b[0m             \u001b[0;31m# If we're going to release the connection in ``finally:``, then\u001b[0m\u001b[0;34m\u001b[0m\u001b[0;34m\u001b[0m\u001b[0m\n",
      "\u001b[0;32m~/.pyenv/versions/anaconda3-4.4.0/envs/sukikana-content-based-model/lib/python3.6/site-packages/urllib3/connectionpool.py\u001b[0m in \u001b[0;36m_make_request\u001b[0;34m(self, conn, method, url, timeout, chunked, **httplib_request_kw)\u001b[0m\n\u001b[1;32m    378\u001b[0m             \u001b[0;32mexcept\u001b[0m \u001b[0mTypeError\u001b[0m\u001b[0;34m:\u001b[0m  \u001b[0;31m# Python 2.6 and older, Python 3\u001b[0m\u001b[0;34m\u001b[0m\u001b[0m\n\u001b[1;32m    379\u001b[0m                 \u001b[0;32mtry\u001b[0m\u001b[0;34m:\u001b[0m\u001b[0;34m\u001b[0m\u001b[0m\n\u001b[0;32m--> 380\u001b[0;31m                     \u001b[0mhttplib_response\u001b[0m \u001b[0;34m=\u001b[0m \u001b[0mconn\u001b[0m\u001b[0;34m.\u001b[0m\u001b[0mgetresponse\u001b[0m\u001b[0;34m(\u001b[0m\u001b[0;34m)\u001b[0m\u001b[0;34m\u001b[0m\u001b[0m\n\u001b[0m\u001b[1;32m    381\u001b[0m                 \u001b[0;32mexcept\u001b[0m \u001b[0mException\u001b[0m \u001b[0;32mas\u001b[0m \u001b[0me\u001b[0m\u001b[0;34m:\u001b[0m\u001b[0;34m\u001b[0m\u001b[0m\n\u001b[1;32m    382\u001b[0m                     \u001b[0;31m# Remove the TypeError from the exception chain in Python 3;\u001b[0m\u001b[0;34m\u001b[0m\u001b[0;34m\u001b[0m\u001b[0m\n",
      "\u001b[0;32m~/.pyenv/versions/anaconda3-4.4.0/envs/sukikana-content-based-model/lib/python3.6/http/client.py\u001b[0m in \u001b[0;36mgetresponse\u001b[0;34m(self)\u001b[0m\n\u001b[1;32m   1329\u001b[0m         \u001b[0;32mtry\u001b[0m\u001b[0;34m:\u001b[0m\u001b[0;34m\u001b[0m\u001b[0m\n\u001b[1;32m   1330\u001b[0m             \u001b[0;32mtry\u001b[0m\u001b[0;34m:\u001b[0m\u001b[0;34m\u001b[0m\u001b[0m\n\u001b[0;32m-> 1331\u001b[0;31m                 \u001b[0mresponse\u001b[0m\u001b[0;34m.\u001b[0m\u001b[0mbegin\u001b[0m\u001b[0;34m(\u001b[0m\u001b[0;34m)\u001b[0m\u001b[0;34m\u001b[0m\u001b[0m\n\u001b[0m\u001b[1;32m   1332\u001b[0m             \u001b[0;32mexcept\u001b[0m \u001b[0mConnectionError\u001b[0m\u001b[0;34m:\u001b[0m\u001b[0;34m\u001b[0m\u001b[0m\n\u001b[1;32m   1333\u001b[0m                 \u001b[0mself\u001b[0m\u001b[0;34m.\u001b[0m\u001b[0mclose\u001b[0m\u001b[0;34m(\u001b[0m\u001b[0;34m)\u001b[0m\u001b[0;34m\u001b[0m\u001b[0m\n",
      "\u001b[0;32m~/.pyenv/versions/anaconda3-4.4.0/envs/sukikana-content-based-model/lib/python3.6/http/client.py\u001b[0m in \u001b[0;36mbegin\u001b[0;34m(self)\u001b[0m\n\u001b[1;32m    295\u001b[0m         \u001b[0;31m# read until we get a non-100 response\u001b[0m\u001b[0;34m\u001b[0m\u001b[0;34m\u001b[0m\u001b[0m\n\u001b[1;32m    296\u001b[0m         \u001b[0;32mwhile\u001b[0m \u001b[0;32mTrue\u001b[0m\u001b[0;34m:\u001b[0m\u001b[0;34m\u001b[0m\u001b[0m\n\u001b[0;32m--> 297\u001b[0;31m             \u001b[0mversion\u001b[0m\u001b[0;34m,\u001b[0m \u001b[0mstatus\u001b[0m\u001b[0;34m,\u001b[0m \u001b[0mreason\u001b[0m \u001b[0;34m=\u001b[0m \u001b[0mself\u001b[0m\u001b[0;34m.\u001b[0m\u001b[0m_read_status\u001b[0m\u001b[0;34m(\u001b[0m\u001b[0;34m)\u001b[0m\u001b[0;34m\u001b[0m\u001b[0m\n\u001b[0m\u001b[1;32m    298\u001b[0m             \u001b[0;32mif\u001b[0m \u001b[0mstatus\u001b[0m \u001b[0;34m!=\u001b[0m \u001b[0mCONTINUE\u001b[0m\u001b[0;34m:\u001b[0m\u001b[0;34m\u001b[0m\u001b[0m\n\u001b[1;32m    299\u001b[0m                 \u001b[0;32mbreak\u001b[0m\u001b[0;34m\u001b[0m\u001b[0m\n",
      "\u001b[0;32m~/.pyenv/versions/anaconda3-4.4.0/envs/sukikana-content-based-model/lib/python3.6/http/client.py\u001b[0m in \u001b[0;36m_read_status\u001b[0;34m(self)\u001b[0m\n\u001b[1;32m    256\u001b[0m \u001b[0;34m\u001b[0m\u001b[0m\n\u001b[1;32m    257\u001b[0m     \u001b[0;32mdef\u001b[0m \u001b[0m_read_status\u001b[0m\u001b[0;34m(\u001b[0m\u001b[0mself\u001b[0m\u001b[0;34m)\u001b[0m\u001b[0;34m:\u001b[0m\u001b[0;34m\u001b[0m\u001b[0m\n\u001b[0;32m--> 258\u001b[0;31m         \u001b[0mline\u001b[0m \u001b[0;34m=\u001b[0m \u001b[0mstr\u001b[0m\u001b[0;34m(\u001b[0m\u001b[0mself\u001b[0m\u001b[0;34m.\u001b[0m\u001b[0mfp\u001b[0m\u001b[0;34m.\u001b[0m\u001b[0mreadline\u001b[0m\u001b[0;34m(\u001b[0m\u001b[0m_MAXLINE\u001b[0m \u001b[0;34m+\u001b[0m \u001b[0;36m1\u001b[0m\u001b[0;34m)\u001b[0m\u001b[0;34m,\u001b[0m \u001b[0;34m\"iso-8859-1\"\u001b[0m\u001b[0;34m)\u001b[0m\u001b[0;34m\u001b[0m\u001b[0m\n\u001b[0m\u001b[1;32m    259\u001b[0m         \u001b[0;32mif\u001b[0m \u001b[0mlen\u001b[0m\u001b[0;34m(\u001b[0m\u001b[0mline\u001b[0m\u001b[0;34m)\u001b[0m \u001b[0;34m>\u001b[0m \u001b[0m_MAXLINE\u001b[0m\u001b[0;34m:\u001b[0m\u001b[0;34m\u001b[0m\u001b[0m\n\u001b[1;32m    260\u001b[0m             \u001b[0;32mraise\u001b[0m \u001b[0mLineTooLong\u001b[0m\u001b[0;34m(\u001b[0m\u001b[0;34m\"status line\"\u001b[0m\u001b[0;34m)\u001b[0m\u001b[0;34m\u001b[0m\u001b[0m\n",
      "\u001b[0;32m~/.pyenv/versions/anaconda3-4.4.0/envs/sukikana-content-based-model/lib/python3.6/socket.py\u001b[0m in \u001b[0;36mreadinto\u001b[0;34m(self, b)\u001b[0m\n\u001b[1;32m    584\u001b[0m         \u001b[0;32mwhile\u001b[0m \u001b[0;32mTrue\u001b[0m\u001b[0;34m:\u001b[0m\u001b[0;34m\u001b[0m\u001b[0m\n\u001b[1;32m    585\u001b[0m             \u001b[0;32mtry\u001b[0m\u001b[0;34m:\u001b[0m\u001b[0;34m\u001b[0m\u001b[0m\n\u001b[0;32m--> 586\u001b[0;31m                 \u001b[0;32mreturn\u001b[0m \u001b[0mself\u001b[0m\u001b[0;34m.\u001b[0m\u001b[0m_sock\u001b[0m\u001b[0;34m.\u001b[0m\u001b[0mrecv_into\u001b[0m\u001b[0;34m(\u001b[0m\u001b[0mb\u001b[0m\u001b[0;34m)\u001b[0m\u001b[0;34m\u001b[0m\u001b[0m\n\u001b[0m\u001b[1;32m    587\u001b[0m             \u001b[0;32mexcept\u001b[0m \u001b[0mtimeout\u001b[0m\u001b[0;34m:\u001b[0m\u001b[0;34m\u001b[0m\u001b[0m\n\u001b[1;32m    588\u001b[0m                 \u001b[0mself\u001b[0m\u001b[0;34m.\u001b[0m\u001b[0m_timeout_occurred\u001b[0m \u001b[0;34m=\u001b[0m \u001b[0;32mTrue\u001b[0m\u001b[0;34m\u001b[0m\u001b[0m\n",
      "\u001b[0;31mKeyboardInterrupt\u001b[0m: "
     ]
    }
   ],
   "source": [
    "for i in range(2475, 10000, 45):\n",
    "    print(i)\n",
    "    req_get = requests.get(api, params={'skip': i, 'limit': 45, 'select': {'msdId': 1}})# song.song_id})\n",
    "    req_get.raise_for_status()\n",
    "    res_get = req_get.json()\n",
    "    #latents.extend(list(map(lambda song: np.array(song['latents']), res_get)))\n",
    "    #mels.extend(list(map(lambda song: np.array(song['mels']).reshape(song['nComponents'], -1), res_get)))\n",
    "    indices.extend(list(map(lambda song: song['msdId'], res_get)))"
   ]
  },
  {
   "cell_type": "code",
   "execution_count": 49,
   "metadata": {},
   "outputs": [
    {
     "data": {
      "text/plain": [
       "2835"
      ]
     },
     "execution_count": 49,
     "metadata": {},
     "output_type": "execute_result"
    }
   ],
   "source": [
    "len(indices)"
   ]
  },
  {
   "cell_type": "code",
   "execution_count": 25,
   "metadata": {},
   "outputs": [],
   "source": [
    "with open('latents.pkl', 'wb') as lf:\n",
    "    #pickle.dump(latents, lf)"
   ]
  },
  {
   "cell_type": "code",
   "execution_count": 70,
   "metadata": {},
   "outputs": [],
   "source": [
    "for i, chunk in enumerate(range(0, len(mels), 100)):\n",
    "    with open('mels.{}.pkl'.format(i), 'wb') as mf:\n",
    "       #pickle.dump(mels[chunk:chunk+100], mf)"
   ]
  },
  {
   "cell_type": "code",
   "execution_count": 7,
   "metadata": {},
   "outputs": [],
   "source": [
    "with open('latents.pkl', 'rb') as lf:\n",
    "    latents = pickle.load(lf)"
   ]
  },
  {
   "cell_type": "code",
   "execution_count": 62,
   "metadata": {},
   "outputs": [],
   "source": [
    "for i in range(46):\n",
    "    with open('mels.{}.pkl'.format(i), 'rb') as mf:\n",
    "        mels.extend(pickle.load(mf))"
   ]
  },
  {
   "cell_type": "code",
   "execution_count": 63,
   "metadata": {},
   "outputs": [],
   "source": [
    "mels = mels[:2835]"
   ]
  },
  {
   "cell_type": "code",
   "execution_count": 30,
   "metadata": {},
   "outputs": [],
   "source": [
    "df = pd.read_csv('./training.csv', sep=';', index_col=0)"
   ]
  },
  {
   "cell_type": "code",
   "execution_count": 35,
   "metadata": {},
   "outputs": [],
   "source": [
    "df = df.latents.apply(lambda x: np.fromstring(\n",
    "                               x.replace('\\n','')\n",
    "                                .replace('[','')\n",
    "                                .replace(']','')\n",
    "                                .replace('  ',' '), sep=' '))"
   ]
  },
  {
   "cell_type": "code",
   "execution_count": 69,
   "metadata": {
    "scrolled": true
   },
   "outputs": [
    {
     "name": "stderr",
     "output_type": "stream",
     "text": [
      "/Users/pascalluttgens/.pyenv/versions/anaconda3-4.4.0/envs/sukikana-content-based-model/lib/python3.6/site-packages/ipykernel_launcher.py:1: FutureWarning: \n",
      "Passing list-likes to .loc or [] with any missing label will raise\n",
      "KeyError in the future, you can use .reindex() as an alternative.\n",
      "\n",
      "See the documentation here:\n",
      "https://pandas.pydata.org/pandas-docs/stable/indexing.html#deprecate-loc-reindex-listlike\n",
      "  \"\"\"Entry point for launching an IPython kernel.\n"
     ]
    },
    {
     "data": {
      "text/plain": [
       "array([   0,    1,    2, ..., 2832, 2833, 2834])"
      ]
     },
     "execution_count": 69,
     "metadata": {},
     "output_type": "execute_result"
    }
   ],
   "source": [
    "mels = [mels[i] for i in np.where(~df.loc[indices].isna())[0]]"
   ]
  },
  {
   "cell_type": "code",
   "execution_count": null,
   "metadata": {},
   "outputs": [],
   "source": [
    "df.loc[indices][~df.loc[indices].isna()].values"
   ]
  },
  {
   "cell_type": "code",
   "execution_count": 107,
   "metadata": {
    "scrolled": true
   },
   "outputs": [
    {
     "name": "stderr",
     "output_type": "stream",
     "text": [
      "/Users/pascalluttgens/.pyenv/versions/anaconda3-4.4.0/envs/sukikana-content-based-model/lib/python3.6/site-packages/ipykernel_launcher.py:1: FutureWarning: \n",
      "Passing list-likes to .loc or [] with any missing label will raise\n",
      "KeyError in the future, you can use .reindex() as an alternative.\n",
      "\n",
      "See the documentation here:\n",
      "https://pandas.pydata.org/pandas-docs/stable/indexing.html#deprecate-loc-reindex-listlike\n",
      "  \"\"\"Entry point for launching an IPython kernel.\n"
     ]
    }
   ],
   "source": [
    "latents = np.array(df.loc[indices][~df.loc[indices].isna()].values.tolist())"
   ]
  },
  {
   "cell_type": "code",
   "execution_count": 18,
   "metadata": {},
   "outputs": [],
   "source": [
    "mels = [mel.shape[1] >= 1200 for mel in mels]"
   ]
  },
  {
   "cell_type": "code",
   "execution_count": 72,
   "metadata": {},
   "outputs": [],
   "source": [
    "df = df[[value.shape[1] >= 1200 for value in df.mels.values]]"
   ]
  },
  {
   "cell_type": "code",
   "execution_count": 74,
   "metadata": {},
   "outputs": [],
   "source": [
    "n_components = 128\n",
    "mel_spectrum_length = 128\n",
    "sampling_rate = 22050\n",
    "n_factors = 50"
   ]
  },
  {
   "cell_type": "code",
   "execution_count": 168,
   "metadata": {},
   "outputs": [
    {
     "name": "stdout",
     "output_type": "stream",
     "text": [
      "_________________________________________________________________\n",
      "Layer (type)                 Output Shape              Param #   \n",
      "=================================================================\n",
      "conv2d_6 (Conv2D)            (None, 63, 63, 32)        320       \n",
      "_________________________________________________________________\n",
      "flatten_6 (Flatten)          (None, 127008)            0         \n",
      "_________________________________________________________________\n",
      "dense_11 (Dense)             (None, 256)               32514304  \n",
      "_________________________________________________________________\n",
      "leaky_re_lu_1 (LeakyReLU)    (None, 256)               0         \n",
      "_________________________________________________________________\n",
      "dense_12 (Dense)             (None, 50)                12850     \n",
      "_________________________________________________________________\n",
      "leaky_re_lu_2 (LeakyReLU)    (None, 50)                0         \n",
      "=================================================================\n",
      "Total params: 32,527,474\n",
      "Trainable params: 32,527,474\n",
      "Non-trainable params: 0\n",
      "_________________________________________________________________\n"
     ]
    }
   ],
   "source": [
    "model = Sequential()\n",
    "model.add(Conv2D(filters=32, kernel_size=(3, 3), strides=2, use_bias=True, activation=relu, input_shape=(n_components, mel_spectrum_length, 1)))\n",
    "model.add(Flatten())\n",
    "model.add(Dense(256))\n",
    "model.add(LeakyReLU(alpha=0.3))\n",
    "model.add(Dense(n_factors))\n",
    "model.add(LeakyReLU(alpha=0.3))          \n",
    "model.compile(optimizer=RMSprop(),loss=MSE, metrics=[])\n",
    "model.summary()"
   ]
  },
  {
   "cell_type": "code",
   "execution_count": 163,
   "metadata": {
    "scrolled": true
   },
   "outputs": [],
   "source": [
    "X = np.array([value[:, 500:628] for value in mels]).reshape(-1, n_components, mel_spectrum_length, 1)"
   ]
  },
  {
   "cell_type": "code",
   "execution_count": 164,
   "metadata": {},
   "outputs": [],
   "source": [
    "Y = latents"
   ]
  },
  {
   "cell_type": "code",
   "execution_count": 169,
   "metadata": {},
   "outputs": [
    {
     "name": "stdout",
     "output_type": "stream",
     "text": [
      "Train on 1980 samples, validate on 850 samples\n",
      "Epoch 1/50\n",
      "1980/1980 [==============================] - 43s 22ms/step - loss: 75.3959 - val_loss: 2.7171\n",
      "Epoch 2/50\n",
      "1980/1980 [==============================] - 41s 21ms/step - loss: 1.8746 - val_loss: 1.4034\n",
      "Epoch 3/50\n",
      "1980/1980 [==============================] - 43s 22ms/step - loss: 0.2387 - val_loss: 0.0060\n",
      "Epoch 4/50\n",
      "1980/1980 [==============================] - 47s 24ms/step - loss: 0.0102 - val_loss: 0.0011\n",
      "Epoch 5/50\n",
      "1980/1980 [==============================] - 36s 18ms/step - loss: 0.0011 - val_loss: 0.0013\n"
     ]
    },
    {
     "data": {
      "text/plain": [
       "<keras.callbacks.History at 0x19212e278>"
      ]
     },
     "execution_count": 169,
     "metadata": {},
     "output_type": "execute_result"
    }
   ],
   "source": [
    "model.fit(x=X, y=Y, validation_split=0.3, batch_size=32, epochs=50, callbacks=[TensorBoard(log_dir='./tensorboard-logs/run-{}'.format(time.strftime('%Y/%m/%d %H:%M:%S'))), EarlyStopping()])"
   ]
  },
  {
   "cell_type": "code",
   "execution_count": 126,
   "metadata": {},
   "outputs": [],
   "source": [
    "df_meta = df_meta[df_meta.song_id.isin(indices)]"
   ]
  },
  {
   "cell_type": "code",
   "execution_count": 127,
   "metadata": {
    "scrolled": true
   },
   "outputs": [],
   "source": [
    "df_taste = df_taste[df_taste.song_id.isin(indices)]"
   ]
  },
  {
   "cell_type": "code",
   "execution_count": 131,
   "metadata": {},
   "outputs": [
    {
     "data": {
      "text/plain": [
       "ec6dfcf19485cb011e0b22637075037aae34cf26    29\n",
       "8cb51abc6bf8ea29341cb070fe1e1af5e4c3ffcc    17\n",
       "4e11f45d732f4861772b2906f81a7d384552ad12    17\n",
       "96f7b4f800cafef33eae71a6bc44f7139f63cd7a    16\n",
       "fef771ab021c200187a419f5e55311390f850a50    15\n",
       "5ef127be2845313b04cdab97eafd5bab866eaf35    15\n",
       "9af92dd4349d57bd60506d6fc2c29c1bbeaf7400    14\n",
       "7e543508a213f4f22e0cb54ecf2df9c370070a28    14\n",
       "5f428dbd676d47114393f517601d0a6e85a0131e    14\n",
       "44dbdad6ea3eeb7cb5c4f0e74d46319c64b17704    14\n",
       "5a3417a1955d9136413e0d293cd36497f5e00238    13\n",
       "9c2dfee26bbdd4fb19e9800244bea6e7181caeae    13\n",
       "4e73d9e058d2b1f2dba9c1fe4a8f416f9f58364f    13\n",
       "4a1af7eb442b43b622bd8f2d3c4fab76f74cf087    13\n",
       "3288389bf9ef956a23a0a4ea86f60bf24ba7f69e    13\n",
       "dce67cd21e628ef2757df7c46a9fd66e2ba5d79b    13\n",
       "ba43e2ef9ea08ae36dbb127d9af34b61536219c9    13\n",
       "736083bd7ecd162effb7668cab6c281945762e85    13\n",
       "b48c847eda0f305e195d33de05d56c79692352bb    13\n",
       "a05e548059abb1f77cad6cb9c3c0c48e0616f551    12\n",
       "070941445cba8e8a9157f1253116cc430c31a811    12\n",
       "3eae654f2e94d65bddbdccd50b651e20df2b3a92    12\n",
       "8df22a6f78d35b3c4bae042f21ef16844ba208d3    12\n",
       "417bb8a7234014d0bdfa19e1e65e49936eb296ff    12\n",
       "05827149e986795839036b59a23ad3ff8dcc4bf8    12\n",
       "faf46da62a5b9b80ff5f24fcaf2914293aa8ca19    12\n",
       "3f825edde1e0c41ee475a1fdebb57fd83d174b0c    11\n",
       "17d3104690880b6fbc4e347414c3999fa5df155a    11\n",
       "87edc24b4f4396d9c6aed683c62f304169463549    11\n",
       "33a1286454a3cff06e3c2324be746d2e23d7c270    11\n",
       "                                            ..\n",
       "57118ecb782ea5395f043708d2d04eb730a7e42e     1\n",
       "2f219e3406324a9c5e3961d5cb005723925a8258     1\n",
       "d93229a20e818a85d1af79ff2f748ab9d5702649     1\n",
       "a18cc0f3747fe8316a88b92eeddb84745b0d4a45     1\n",
       "287b57eada2a9ffdd29be2380d3beb45111a7e1a     1\n",
       "6e34343ae300fa057b07c4d7bd094d4ace55c1c6     1\n",
       "378247e52b6d2371b52423edb5ee64b8171a7ca0     1\n",
       "64ccde56ffb4bf9eede1e4ca1dd13c47eb2ba253     1\n",
       "3c12e4db349572c0d4e3282dca9d39d696ecca2d     1\n",
       "532e7a2962a37e24d55431f267411968f4cbfecc     1\n",
       "c8d4c69d41a9efcf86eaa51211da5cd46a93e81b     1\n",
       "f7312b387e1b987dc7d5c26b2a920850371b34a4     1\n",
       "1eef527853c5eac8441148c2cedc948daaa27346     1\n",
       "f6eff8eae08377e592ae98a7ad899dd87e521ccf     1\n",
       "b537472a1b509d63d65fe770828867bea343f6e9     1\n",
       "99be776485a7b907450e7ad2370804b9fd934685     1\n",
       "4ac872bbea7c1918360655e8599b7ca64debd501     1\n",
       "26d0c9e527d1c56ad0258f74e3864cd4729f3af7     1\n",
       "9a97ec754997bfe4e53a8e0c1f8c9fea163b7265     1\n",
       "116889d5ae5d63e30bf0db902db7222eafaf49b4     1\n",
       "61ce70c1798094a1b27baa64edd9781259d19346     1\n",
       "3e05677c86b7f5aaa5f8a9ef3d151c8165fcdee0     1\n",
       "bf5f1f2731d4efa27c4bc6054bf719889ee52490     1\n",
       "ec19567a821b4d8fcd7b5ee7de988599dc5c743b     1\n",
       "7acd4921c0a8da6baf80704ed1edf71c7329fbff     1\n",
       "bee6743322b1e00bb3ee32735d235e13a836fab0     1\n",
       "3c59a7708fa4dac97c8ad8f6a5ab30ff87e79725     1\n",
       "47ef16621f23da2c689853bb768a979b2dcbd912     1\n",
       "c2c6a0cddc2d43b59836e4b3baf666c836626cbe     1\n",
       "e687958f835e33b92d6d6d79d196187b038647f6     1\n",
       "Name: user_id, Length: 245872, dtype: int64"
      ]
     },
     "execution_count": 131,
     "metadata": {},
     "output_type": "execute_result"
    }
   ],
   "source": [
    "df_taste.user_id.value_counts()"
   ]
  },
  {
   "cell_type": "code",
   "execution_count": 134,
   "metadata": {},
   "outputs": [
    {
     "data": {
      "text/html": [
       "<div>\n",
       "<style scoped>\n",
       "    .dataframe tbody tr th:only-of-type {\n",
       "        vertical-align: middle;\n",
       "    }\n",
       "\n",
       "    .dataframe tbody tr th {\n",
       "        vertical-align: top;\n",
       "    }\n",
       "\n",
       "    .dataframe thead th {\n",
       "        text-align: right;\n",
       "    }\n",
       "</style>\n",
       "<table border=\"1\" class=\"dataframe\">\n",
       "  <thead>\n",
       "    <tr style=\"text-align: right;\">\n",
       "      <th></th>\n",
       "      <th>user_id</th>\n",
       "      <th>song_id</th>\n",
       "      <th>play_count</th>\n",
       "      <th>artist_id</th>\n",
       "      <th>artist_name</th>\n",
       "      <th>audio_md5</th>\n",
       "      <th>song_hotttnesss</th>\n",
       "      <th>title</th>\n",
       "      <th>track_id</th>\n",
       "      <th>preview_id</th>\n",
       "      <th>remote_preview_url</th>\n",
       "      <th>preview_artist</th>\n",
       "      <th>preview_title</th>\n",
       "      <th>preview_service</th>\n",
       "    </tr>\n",
       "  </thead>\n",
       "  <tbody>\n",
       "    <tr>\n",
       "      <th>0</th>\n",
       "      <td>8cb51abc6bf8ea29341cb070fe1e1af5e4c3ffcc</td>\n",
       "      <td>SOZSFWF12A6D4F93D5</td>\n",
       "      <td>2</td>\n",
       "      <td>ARVNNXD1187B9AE50D</td>\n",
       "      <td>Marvin Gaye</td>\n",
       "      <td>4ef06e9dd63989f6fb2189ac575e423d</td>\n",
       "      <td>0.855820</td>\n",
       "      <td>Let's Get It On</td>\n",
       "      <td>TRCZGBG128F4222F61</td>\n",
       "      <td>tra.1963881</td>\n",
       "      <td>http://listen.vo.llnwd.net/g3/9/3/9/4/0/128340...</td>\n",
       "      <td>Marvin Gaye</td>\n",
       "      <td>Let's Get It On</td>\n",
       "      <td>napster</td>\n",
       "    </tr>\n",
       "    <tr>\n",
       "      <th>1</th>\n",
       "      <td>8cb51abc6bf8ea29341cb070fe1e1af5e4c3ffcc</td>\n",
       "      <td>SOWPNTP12AAF3B1D86</td>\n",
       "      <td>2</td>\n",
       "      <td>AREYHBH1187FB4537B</td>\n",
       "      <td>Ryan Bingham</td>\n",
       "      <td>242bebb36262dc9a2a94ed5dd4b8cdff</td>\n",
       "      <td>0.624834</td>\n",
       "      <td>Day Is Done</td>\n",
       "      <td>TRCCZWQ128F930900B</td>\n",
       "      <td>tra.28464890</td>\n",
       "      <td>http://listen.vo.llnwd.net/g2/9/3/9/5/3/906035...</td>\n",
       "      <td>Ryan Bingham</td>\n",
       "      <td>Day Is Done</td>\n",
       "      <td>napster</td>\n",
       "    </tr>\n",
       "    <tr>\n",
       "      <th>2</th>\n",
       "      <td>8cb51abc6bf8ea29341cb070fe1e1af5e4c3ffcc</td>\n",
       "      <td>SOWIELR12A58A79E3D</td>\n",
       "      <td>2</td>\n",
       "      <td>AROTTEK122E64480AA</td>\n",
       "      <td>Monsters Of Folk</td>\n",
       "      <td>2d37c3074411b0716bb21aeed0d271c4</td>\n",
       "      <td>0.831586</td>\n",
       "      <td>Temazcal</td>\n",
       "      <td>TRJUYRT128F935A63F</td>\n",
       "      <td>tra.53233691</td>\n",
       "      <td>http://listen.vo.llnwd.net/g1/1/9/7/8/9/990598...</td>\n",
       "      <td>Monsters Of Folk</td>\n",
       "      <td>Temazcal</td>\n",
       "      <td>napster</td>\n",
       "    </tr>\n",
       "    <tr>\n",
       "      <th>3</th>\n",
       "      <td>8cb51abc6bf8ea29341cb070fe1e1af5e4c3ffcc</td>\n",
       "      <td>SOFZPSJ12A8C13FADE</td>\n",
       "      <td>2</td>\n",
       "      <td>ARYO9H11187FB57945</td>\n",
       "      <td>Old Crow Medicine Show</td>\n",
       "      <td>68edd6412a305930ae5390c4f3f683a6</td>\n",
       "      <td>0.813155</td>\n",
       "      <td>Take 'Em Away</td>\n",
       "      <td>TRCCEKC12903CE8240</td>\n",
       "      <td>tra.42131532</td>\n",
       "      <td>http://listen.vo.llnwd.net/g3/6/5/5/2/4/132404...</td>\n",
       "      <td>Old Crow Medicine Show</td>\n",
       "      <td>Take 'Em Away</td>\n",
       "      <td>napster</td>\n",
       "    </tr>\n",
       "    <tr>\n",
       "      <th>4</th>\n",
       "      <td>8cb51abc6bf8ea29341cb070fe1e1af5e4c3ffcc</td>\n",
       "      <td>SOALRMF12A8C1436A7</td>\n",
       "      <td>1</td>\n",
       "      <td>ARVV61U1187FB4FC32</td>\n",
       "      <td>The Temper Trap</td>\n",
       "      <td>3552f49e0cd023cedca98b5ab09c7d13</td>\n",
       "      <td>0.873238</td>\n",
       "      <td>Soldier On</td>\n",
       "      <td>TRCXHZZ128F92EF09E</td>\n",
       "      <td>tra.177472841</td>\n",
       "      <td>http://listen.vo.llnwd.net/g3/4/0/2/1/9/114859...</td>\n",
       "      <td>The Temper Trap</td>\n",
       "      <td>Soldier On</td>\n",
       "      <td>napster</td>\n",
       "    </tr>\n",
       "    <tr>\n",
       "      <th>5</th>\n",
       "      <td>8cb51abc6bf8ea29341cb070fe1e1af5e4c3ffcc</td>\n",
       "      <td>SORPAJB12AB0184D93</td>\n",
       "      <td>1</td>\n",
       "      <td>AR9J2H81187B9B5253</td>\n",
       "      <td>Chic</td>\n",
       "      <td>966dd0896cd270382e58d39b68e0bfde</td>\n",
       "      <td>NaN</td>\n",
       "      <td>Le Freak</td>\n",
       "      <td>TRJBNKQ128F930E0DE</td>\n",
       "      <td>tra.1888622</td>\n",
       "      <td>http://listen.vo.llnwd.net/g3/6/3/9/7/9/133079...</td>\n",
       "      <td>Chic</td>\n",
       "      <td>Le Freak</td>\n",
       "      <td>napster</td>\n",
       "    </tr>\n",
       "    <tr>\n",
       "      <th>6</th>\n",
       "      <td>8cb51abc6bf8ea29341cb070fe1e1af5e4c3ffcc</td>\n",
       "      <td>SOYEQLD12AB017C713</td>\n",
       "      <td>1</td>\n",
       "      <td>ARVG4OK1187B9B6BD3</td>\n",
       "      <td>The Killers</td>\n",
       "      <td>bda9f6c47f586a52987576d2a4405a15</td>\n",
       "      <td>NaN</td>\n",
       "      <td>Joy Ride</td>\n",
       "      <td>TRCCPZO128F92F239F</td>\n",
       "      <td>tra.24458955</td>\n",
       "      <td>http://listen.vo.llnwd.net/g3/4/2/2/1/8/106788...</td>\n",
       "      <td>The Killers</td>\n",
       "      <td>Joy Ride</td>\n",
       "      <td>napster</td>\n",
       "    </tr>\n",
       "    <tr>\n",
       "      <th>7</th>\n",
       "      <td>8cb51abc6bf8ea29341cb070fe1e1af5e4c3ffcc</td>\n",
       "      <td>SOXBCZH12A67ADAD77</td>\n",
       "      <td>1</td>\n",
       "      <td>ARVHQNN1187B9B9FA3</td>\n",
       "      <td>Cat Stevens</td>\n",
       "      <td>936062456a9fa7790b52cf2dfadd0aaa</td>\n",
       "      <td>0.787894</td>\n",
       "      <td>Peace Train</td>\n",
       "      <td>TRCCVVV128F42838D9</td>\n",
       "      <td>tra.2066906</td>\n",
       "      <td>http://listen.vo.llnwd.net/g1/8/1/4/3/0/104230...</td>\n",
       "      <td>Yusuf / Cat Stevens</td>\n",
       "      <td>Peace Train</td>\n",
       "      <td>napster</td>\n",
       "    </tr>\n",
       "    <tr>\n",
       "      <th>8</th>\n",
       "      <td>8cb51abc6bf8ea29341cb070fe1e1af5e4c3ffcc</td>\n",
       "      <td>SOWCNBR12A6D4F69D7</td>\n",
       "      <td>1</td>\n",
       "      <td>ART4QZC1187FB51612</td>\n",
       "      <td>Janet Jackson</td>\n",
       "      <td>093d2a9bb941844d2d28ebb976069da4</td>\n",
       "      <td>0.557313</td>\n",
       "      <td>Rope Burn</td>\n",
       "      <td>TRCCOAE128F1469927</td>\n",
       "      <td>tra.2106350</td>\n",
       "      <td>http://listen.vo.llnwd.net/g1/8/9/8/0/2/104620...</td>\n",
       "      <td>Janet Jackson</td>\n",
       "      <td>Rope Burn</td>\n",
       "      <td>napster</td>\n",
       "    </tr>\n",
       "    <tr>\n",
       "      <th>9</th>\n",
       "      <td>8cb51abc6bf8ea29341cb070fe1e1af5e4c3ffcc</td>\n",
       "      <td>SOPRVBH12A6D4F6C4F</td>\n",
       "      <td>1</td>\n",
       "      <td>ARRFHHE1187B98FE75</td>\n",
       "      <td>Voxtrot</td>\n",
       "      <td>589fdf5f7502ef927bbdfa1bc89c2a86</td>\n",
       "      <td>0.753795</td>\n",
       "      <td>Ghost</td>\n",
       "      <td>TRZSSMW128F428E44E</td>\n",
       "      <td>tra.14385488</td>\n",
       "      <td>http://listen.vo.llnwd.net/g1/3/3/2/3/7/102207...</td>\n",
       "      <td>Voxtrot</td>\n",
       "      <td>Ghost</td>\n",
       "      <td>napster</td>\n",
       "    </tr>\n",
       "    <tr>\n",
       "      <th>10</th>\n",
       "      <td>8cb51abc6bf8ea29341cb070fe1e1af5e4c3ffcc</td>\n",
       "      <td>SOMYSDQ12AB0183042</td>\n",
       "      <td>1</td>\n",
       "      <td>ARQR6U21187B99E8DC</td>\n",
       "      <td>Amos Lee</td>\n",
       "      <td>57069c2ff151d54f87db1ace47278f92</td>\n",
       "      <td>0.617330</td>\n",
       "      <td>Truth</td>\n",
       "      <td>TRJOZNC128F92D5588</td>\n",
       "      <td>tra.13251104</td>\n",
       "      <td>http://listen.vo.llnwd.net/g1/5/1/3/4/6/104256...</td>\n",
       "      <td>Amos Lee</td>\n",
       "      <td>Truth</td>\n",
       "      <td>napster</td>\n",
       "    </tr>\n",
       "    <tr>\n",
       "      <th>11</th>\n",
       "      <td>8cb51abc6bf8ea29341cb070fe1e1af5e4c3ffcc</td>\n",
       "      <td>SOLNBBA12A8C1363BE</td>\n",
       "      <td>1</td>\n",
       "      <td>ARIWKUS1187FB55354</td>\n",
       "      <td>Coheed and Cambria</td>\n",
       "      <td>184ee43ab6a3363714e177d2a4a86302</td>\n",
       "      <td>0.677124</td>\n",
       "      <td>Devil In Jersey City</td>\n",
       "      <td>TRNARJE128F4282550</td>\n",
       "      <td>tra.181906917</td>\n",
       "      <td>http://listen.vo.llnwd.net/g3/0/2/5/4/4/116164...</td>\n",
       "      <td>Coheed And Cambria</td>\n",
       "      <td>Devil in Jersey City</td>\n",
       "      <td>napster</td>\n",
       "    </tr>\n",
       "    <tr>\n",
       "      <th>12</th>\n",
       "      <td>8cb51abc6bf8ea29341cb070fe1e1af5e4c3ffcc</td>\n",
       "      <td>SOLFRWG12A6310DFFD</td>\n",
       "      <td>1</td>\n",
       "      <td>ARIIMPS1187FB4CD03</td>\n",
       "      <td>Richard Ashcroft</td>\n",
       "      <td>5729707b8455edcd7797d898470b3833</td>\n",
       "      <td>0.672656</td>\n",
       "      <td>Bright Lights</td>\n",
       "      <td>TRCCRCT128E07819CE</td>\n",
       "      <td>tra.2846859</td>\n",
       "      <td>http://listen.vo.llnwd.net/g3/2/3/3/4/3/128883...</td>\n",
       "      <td>Richard Ashcroft</td>\n",
       "      <td>Bright Lights</td>\n",
       "      <td>napster</td>\n",
       "    </tr>\n",
       "    <tr>\n",
       "      <th>13</th>\n",
       "      <td>8cb51abc6bf8ea29341cb070fe1e1af5e4c3ffcc</td>\n",
       "      <td>SOJNUHE12A8C136F86</td>\n",
       "      <td>1</td>\n",
       "      <td>ARGFFA01187B9A2D11</td>\n",
       "      <td>Pennywise</td>\n",
       "      <td>cbd879d82f0e16e4077cb6abff5385a8</td>\n",
       "      <td>0.771624</td>\n",
       "      <td>Society</td>\n",
       "      <td>TRNTAPI128F4262583</td>\n",
       "      <td>tra.2029679</td>\n",
       "      <td>http://listen.vo.llnwd.net/g1/9/4/7/8/3/104193...</td>\n",
       "      <td>Pennywise</td>\n",
       "      <td>Society</td>\n",
       "      <td>napster</td>\n",
       "    </tr>\n",
       "    <tr>\n",
       "      <th>14</th>\n",
       "      <td>8cb51abc6bf8ea29341cb070fe1e1af5e4c3ffcc</td>\n",
       "      <td>SOJLLOM12A8C1437AA</td>\n",
       "      <td>1</td>\n",
       "      <td>ARFYR4G11C8A41490F</td>\n",
       "      <td>Beats Antique</td>\n",
       "      <td>4e7709132ce2b192469b67eea629e7fe</td>\n",
       "      <td>0.710586</td>\n",
       "      <td>Beauty Beats</td>\n",
       "      <td>TRZWIXD128F92F16A4</td>\n",
       "      <td>tra.23390842</td>\n",
       "      <td>http://listen.vo.llnwd.net/g3/2/7/7/3/9/128299...</td>\n",
       "      <td>Beats Antique</td>\n",
       "      <td>Beauty Beats</td>\n",
       "      <td>napster</td>\n",
       "    </tr>\n",
       "    <tr>\n",
       "      <th>15</th>\n",
       "      <td>8cb51abc6bf8ea29341cb070fe1e1af5e4c3ffcc</td>\n",
       "      <td>SOGZOIP12A6D4FB934</td>\n",
       "      <td>1</td>\n",
       "      <td>ARIPLUN1187B99B9F9</td>\n",
       "      <td>The Police</td>\n",
       "      <td>61260b4ae7f67325e498a1704eedd239</td>\n",
       "      <td>0.731434</td>\n",
       "      <td>Walking On The Moon</td>\n",
       "      <td>TRCZTPL128F14920CD</td>\n",
       "      <td>tra.14983018</td>\n",
       "      <td>http://listen.vo.llnwd.net/g1/5/7/7/2/0/101600...</td>\n",
       "      <td>The Police</td>\n",
       "      <td>Walking On The Moon</td>\n",
       "      <td>napster</td>\n",
       "    </tr>\n",
       "    <tr>\n",
       "      <th>16</th>\n",
       "      <td>8cb51abc6bf8ea29341cb070fe1e1af5e4c3ffcc</td>\n",
       "      <td>SOZVCRW12A67ADA0B7</td>\n",
       "      <td>1</td>\n",
       "      <td>ARVG4OK1187B9B6BD3</td>\n",
       "      <td>The Killers</td>\n",
       "      <td>94498eee93af8c3c6424b295e13aaaa2</td>\n",
       "      <td>0.926103</td>\n",
       "      <td>When You Were Young</td>\n",
       "      <td>TRNTALF128EF343800</td>\n",
       "      <td>tra.11740943</td>\n",
       "      <td>http://listen.vo.llnwd.net/g1/1/6/5/3/2/104262...</td>\n",
       "      <td>The Killers</td>\n",
       "      <td>When You Were Young</td>\n",
       "      <td>napster</td>\n",
       "    </tr>\n",
       "  </tbody>\n",
       "</table>\n",
       "</div>"
      ],
      "text/plain": [
       "                                     user_id             song_id  play_count  \\\n",
       "0   8cb51abc6bf8ea29341cb070fe1e1af5e4c3ffcc  SOZSFWF12A6D4F93D5           2   \n",
       "1   8cb51abc6bf8ea29341cb070fe1e1af5e4c3ffcc  SOWPNTP12AAF3B1D86           2   \n",
       "2   8cb51abc6bf8ea29341cb070fe1e1af5e4c3ffcc  SOWIELR12A58A79E3D           2   \n",
       "3   8cb51abc6bf8ea29341cb070fe1e1af5e4c3ffcc  SOFZPSJ12A8C13FADE           2   \n",
       "4   8cb51abc6bf8ea29341cb070fe1e1af5e4c3ffcc  SOALRMF12A8C1436A7           1   \n",
       "5   8cb51abc6bf8ea29341cb070fe1e1af5e4c3ffcc  SORPAJB12AB0184D93           1   \n",
       "6   8cb51abc6bf8ea29341cb070fe1e1af5e4c3ffcc  SOYEQLD12AB017C713           1   \n",
       "7   8cb51abc6bf8ea29341cb070fe1e1af5e4c3ffcc  SOXBCZH12A67ADAD77           1   \n",
       "8   8cb51abc6bf8ea29341cb070fe1e1af5e4c3ffcc  SOWCNBR12A6D4F69D7           1   \n",
       "9   8cb51abc6bf8ea29341cb070fe1e1af5e4c3ffcc  SOPRVBH12A6D4F6C4F           1   \n",
       "10  8cb51abc6bf8ea29341cb070fe1e1af5e4c3ffcc  SOMYSDQ12AB0183042           1   \n",
       "11  8cb51abc6bf8ea29341cb070fe1e1af5e4c3ffcc  SOLNBBA12A8C1363BE           1   \n",
       "12  8cb51abc6bf8ea29341cb070fe1e1af5e4c3ffcc  SOLFRWG12A6310DFFD           1   \n",
       "13  8cb51abc6bf8ea29341cb070fe1e1af5e4c3ffcc  SOJNUHE12A8C136F86           1   \n",
       "14  8cb51abc6bf8ea29341cb070fe1e1af5e4c3ffcc  SOJLLOM12A8C1437AA           1   \n",
       "15  8cb51abc6bf8ea29341cb070fe1e1af5e4c3ffcc  SOGZOIP12A6D4FB934           1   \n",
       "16  8cb51abc6bf8ea29341cb070fe1e1af5e4c3ffcc  SOZVCRW12A67ADA0B7           1   \n",
       "\n",
       "             artist_id             artist_name  \\\n",
       "0   ARVNNXD1187B9AE50D             Marvin Gaye   \n",
       "1   AREYHBH1187FB4537B            Ryan Bingham   \n",
       "2   AROTTEK122E64480AA        Monsters Of Folk   \n",
       "3   ARYO9H11187FB57945  Old Crow Medicine Show   \n",
       "4   ARVV61U1187FB4FC32         The Temper Trap   \n",
       "5   AR9J2H81187B9B5253                    Chic   \n",
       "6   ARVG4OK1187B9B6BD3             The Killers   \n",
       "7   ARVHQNN1187B9B9FA3             Cat Stevens   \n",
       "8   ART4QZC1187FB51612           Janet Jackson   \n",
       "9   ARRFHHE1187B98FE75                 Voxtrot   \n",
       "10  ARQR6U21187B99E8DC                Amos Lee   \n",
       "11  ARIWKUS1187FB55354      Coheed and Cambria   \n",
       "12  ARIIMPS1187FB4CD03        Richard Ashcroft   \n",
       "13  ARGFFA01187B9A2D11               Pennywise   \n",
       "14  ARFYR4G11C8A41490F           Beats Antique   \n",
       "15  ARIPLUN1187B99B9F9              The Police   \n",
       "16  ARVG4OK1187B9B6BD3             The Killers   \n",
       "\n",
       "                           audio_md5  song_hotttnesss                 title  \\\n",
       "0   4ef06e9dd63989f6fb2189ac575e423d         0.855820       Let's Get It On   \n",
       "1   242bebb36262dc9a2a94ed5dd4b8cdff         0.624834           Day Is Done   \n",
       "2   2d37c3074411b0716bb21aeed0d271c4         0.831586              Temazcal   \n",
       "3   68edd6412a305930ae5390c4f3f683a6         0.813155         Take 'Em Away   \n",
       "4   3552f49e0cd023cedca98b5ab09c7d13         0.873238            Soldier On   \n",
       "5   966dd0896cd270382e58d39b68e0bfde              NaN              Le Freak   \n",
       "6   bda9f6c47f586a52987576d2a4405a15              NaN              Joy Ride   \n",
       "7   936062456a9fa7790b52cf2dfadd0aaa         0.787894           Peace Train   \n",
       "8   093d2a9bb941844d2d28ebb976069da4         0.557313             Rope Burn   \n",
       "9   589fdf5f7502ef927bbdfa1bc89c2a86         0.753795                 Ghost   \n",
       "10  57069c2ff151d54f87db1ace47278f92         0.617330                 Truth   \n",
       "11  184ee43ab6a3363714e177d2a4a86302         0.677124  Devil In Jersey City   \n",
       "12  5729707b8455edcd7797d898470b3833         0.672656         Bright Lights   \n",
       "13  cbd879d82f0e16e4077cb6abff5385a8         0.771624               Society   \n",
       "14  4e7709132ce2b192469b67eea629e7fe         0.710586          Beauty Beats   \n",
       "15  61260b4ae7f67325e498a1704eedd239         0.731434   Walking On The Moon   \n",
       "16  94498eee93af8c3c6424b295e13aaaa2         0.926103   When You Were Young   \n",
       "\n",
       "              track_id     preview_id  \\\n",
       "0   TRCZGBG128F4222F61    tra.1963881   \n",
       "1   TRCCZWQ128F930900B   tra.28464890   \n",
       "2   TRJUYRT128F935A63F   tra.53233691   \n",
       "3   TRCCEKC12903CE8240   tra.42131532   \n",
       "4   TRCXHZZ128F92EF09E  tra.177472841   \n",
       "5   TRJBNKQ128F930E0DE    tra.1888622   \n",
       "6   TRCCPZO128F92F239F   tra.24458955   \n",
       "7   TRCCVVV128F42838D9    tra.2066906   \n",
       "8   TRCCOAE128F1469927    tra.2106350   \n",
       "9   TRZSSMW128F428E44E   tra.14385488   \n",
       "10  TRJOZNC128F92D5588   tra.13251104   \n",
       "11  TRNARJE128F4282550  tra.181906917   \n",
       "12  TRCCRCT128E07819CE    tra.2846859   \n",
       "13  TRNTAPI128F4262583    tra.2029679   \n",
       "14  TRZWIXD128F92F16A4   tra.23390842   \n",
       "15  TRCZTPL128F14920CD   tra.14983018   \n",
       "16  TRNTALF128EF343800   tra.11740943   \n",
       "\n",
       "                                   remote_preview_url          preview_artist  \\\n",
       "0   http://listen.vo.llnwd.net/g3/9/3/9/4/0/128340...             Marvin Gaye   \n",
       "1   http://listen.vo.llnwd.net/g2/9/3/9/5/3/906035...            Ryan Bingham   \n",
       "2   http://listen.vo.llnwd.net/g1/1/9/7/8/9/990598...        Monsters Of Folk   \n",
       "3   http://listen.vo.llnwd.net/g3/6/5/5/2/4/132404...  Old Crow Medicine Show   \n",
       "4   http://listen.vo.llnwd.net/g3/4/0/2/1/9/114859...         The Temper Trap   \n",
       "5   http://listen.vo.llnwd.net/g3/6/3/9/7/9/133079...                    Chic   \n",
       "6   http://listen.vo.llnwd.net/g3/4/2/2/1/8/106788...             The Killers   \n",
       "7   http://listen.vo.llnwd.net/g1/8/1/4/3/0/104230...     Yusuf / Cat Stevens   \n",
       "8   http://listen.vo.llnwd.net/g1/8/9/8/0/2/104620...           Janet Jackson   \n",
       "9   http://listen.vo.llnwd.net/g1/3/3/2/3/7/102207...                 Voxtrot   \n",
       "10  http://listen.vo.llnwd.net/g1/5/1/3/4/6/104256...                Amos Lee   \n",
       "11  http://listen.vo.llnwd.net/g3/0/2/5/4/4/116164...      Coheed And Cambria   \n",
       "12  http://listen.vo.llnwd.net/g3/2/3/3/4/3/128883...        Richard Ashcroft   \n",
       "13  http://listen.vo.llnwd.net/g1/9/4/7/8/3/104193...               Pennywise   \n",
       "14  http://listen.vo.llnwd.net/g3/2/7/7/3/9/128299...           Beats Antique   \n",
       "15  http://listen.vo.llnwd.net/g1/5/7/7/2/0/101600...              The Police   \n",
       "16  http://listen.vo.llnwd.net/g1/1/6/5/3/2/104262...             The Killers   \n",
       "\n",
       "           preview_title preview_service  \n",
       "0        Let's Get It On         napster  \n",
       "1            Day Is Done         napster  \n",
       "2               Temazcal         napster  \n",
       "3          Take 'Em Away         napster  \n",
       "4             Soldier On         napster  \n",
       "5               Le Freak         napster  \n",
       "6               Joy Ride         napster  \n",
       "7            Peace Train         napster  \n",
       "8              Rope Burn         napster  \n",
       "9                  Ghost         napster  \n",
       "10                 Truth         napster  \n",
       "11  Devil in Jersey City         napster  \n",
       "12         Bright Lights         napster  \n",
       "13               Society         napster  \n",
       "14          Beauty Beats         napster  \n",
       "15   Walking On The Moon         napster  \n",
       "16   When You Were Young         napster  "
      ]
     },
     "execution_count": 134,
     "metadata": {},
     "output_type": "execute_result"
    }
   ],
   "source": [
    "df_taste[df_taste.user_id == '8cb51abc6bf8ea29341cb070fe1e1af5e4c3ffcc'].sort_values('play_count', ascending=False).merge(df_meta, on='song_id')"
   ]
  },
  {
   "cell_type": "code",
   "execution_count": 136,
   "metadata": {
    "scrolled": true
   },
   "outputs": [
    {
     "data": {
      "text/plain": [
       "0     0.152021\n",
       "1     0.077299\n",
       "2     0.116307\n",
       "3    -0.317888\n",
       "4     0.150680\n",
       "5    -0.383566\n",
       "6     0.055319\n",
       "7    -0.304024\n",
       "8    -0.023429\n",
       "9    -0.145054\n",
       "10   -0.163725\n",
       "11   -0.191688\n",
       "12   -0.158902\n",
       "13   -0.170530\n",
       "14    0.065332\n",
       "15   -0.089207\n",
       "16    0.256355\n",
       "17    0.137176\n",
       "18    0.454102\n",
       "19    0.213469\n",
       "20   -0.138222\n",
       "21    0.296328\n",
       "22    0.270011\n",
       "23    0.294850\n",
       "24   -0.058250\n",
       "25   -0.098731\n",
       "26   -0.178425\n",
       "27   -0.075274\n",
       "28    0.269863\n",
       "29    0.327501\n",
       "30    0.049571\n",
       "31    0.019409\n",
       "32    0.215409\n",
       "33   -0.065060\n",
       "34    0.349223\n",
       "35    0.200936\n",
       "36   -0.102151\n",
       "37    0.268580\n",
       "38    0.042046\n",
       "39    0.062064\n",
       "40    0.146535\n",
       "41    0.414001\n",
       "42   -0.255620\n",
       "43    0.392303\n",
       "44   -0.018195\n",
       "45   -0.147027\n",
       "46   -0.197584\n",
       "47    0.266280\n",
       "48    0.393570\n",
       "49   -0.319378\n",
       "Name: 8cb51abc6bf8ea29341cb070fe1e1af5e4c3ffcc, dtype: float64"
      ]
     },
     "execution_count": 136,
     "metadata": {},
     "output_type": "execute_result"
    }
   ],
   "source": [
    "df_user_factors.loc['8cb51abc6bf8ea29341cb070fe1e1af5e4c3ffcc'].values"
   ]
  },
  {
   "cell_type": "code",
   "execution_count": 170,
   "metadata": {},
   "outputs": [],
   "source": [
    "predictions = model.predict(np.array([value[:, 500:628] for value in mels]).reshape(-1, n_components, mel_spectrum_length, 1))"
   ]
  },
  {
   "cell_type": "code",
   "execution_count": 172,
   "metadata": {},
   "outputs": [],
   "source": [
    "similarities = metrics.pairwise.cosine_similarity(predictions, df_user_factors.loc['8cb51abc6bf8ea29341cb070fe1e1af5e4c3ffcc'].values.reshape(1, -1))"
   ]
  },
  {
   "cell_type": "code",
   "execution_count": 179,
   "metadata": {},
   "outputs": [
    {
     "data": {
      "text/plain": [
       "0.33445562785870375"
      ]
     },
     "execution_count": 179,
     "metadata": {},
     "output_type": "execute_result"
    }
   ],
   "source": [
    "similarities.reshape(-1)[1788]"
   ]
  },
  {
   "cell_type": "code",
   "execution_count": 177,
   "metadata": {},
   "outputs": [
    {
     "data": {
      "text/plain": [
       "array([1419, 2403, 1941, ...,   35,  862, 1788])"
      ]
     },
     "execution_count": 177,
     "metadata": {},
     "output_type": "execute_result"
    }
   ],
   "source": [
    "np.argsort(similarities.reshape(-1))"
   ]
  },
  {
   "cell_type": "code",
   "execution_count": 171,
   "metadata": {
    "scrolled": false
   },
   "outputs": [
    {
     "data": {
      "text/plain": [
       "array([[-0.00853791,  0.00517047,  0.02003692, ..., -0.001036  ,\n",
       "        -0.00735511,  0.03277497],\n",
       "       [-0.00822889,  0.00837904, -0.00182874, ..., -0.01182501,\n",
       "        -0.01614163,  0.03235246],\n",
       "       [-0.00453793, -0.00111699,  0.05427284, ...,  0.01276771,\n",
       "        -0.0053461 ,  0.01369182],\n",
       "       ...,\n",
       "       [-0.02049732, -0.00901657,  0.01392647, ..., -0.00430805,\n",
       "        -0.02603914,  0.00082757],\n",
       "       [-0.00982702,  0.00085453,  0.06321926, ..., -0.00315075,\n",
       "        -0.00965074,  0.05927781],\n",
       "       [-0.01577126,  0.00792511,  0.02976018, ..., -0.01109297,\n",
       "        -0.02430431,  0.04850259]], dtype=float32)"
      ]
     },
     "execution_count": 171,
     "metadata": {},
     "output_type": "execute_result"
    }
   ],
   "source": [
    "predictions"
   ]
  },
  {
   "cell_type": "code",
   "execution_count": 180,
   "metadata": {},
   "outputs": [
    {
     "data": {
      "text/plain": [
       "'SONJYOJ12A8C13D495'"
      ]
     },
     "execution_count": 180,
     "metadata": {},
     "output_type": "execute_result"
    }
   ],
   "source": [
    "indices[1788]"
   ]
  },
  {
   "cell_type": "code",
   "execution_count": 183,
   "metadata": {},
   "outputs": [
    {
     "data": {
      "text/plain": [
       "'SOPZQEP12A8C13BA51'"
      ]
     },
     "execution_count": 183,
     "metadata": {},
     "output_type": "execute_result"
    }
   ],
   "source": [
    "indices[862]"
   ]
  },
  {
   "cell_type": "code",
   "execution_count": 182,
   "metadata": {},
   "outputs": [
    {
     "data": {
      "text/html": [
       "<div>\n",
       "<style scoped>\n",
       "    .dataframe tbody tr th:only-of-type {\n",
       "        vertical-align: middle;\n",
       "    }\n",
       "\n",
       "    .dataframe tbody tr th {\n",
       "        vertical-align: top;\n",
       "    }\n",
       "\n",
       "    .dataframe thead th {\n",
       "        text-align: right;\n",
       "    }\n",
       "</style>\n",
       "<table border=\"1\" class=\"dataframe\">\n",
       "  <thead>\n",
       "    <tr style=\"text-align: right;\">\n",
       "      <th></th>\n",
       "      <th>artist_id</th>\n",
       "      <th>artist_name</th>\n",
       "      <th>audio_md5</th>\n",
       "      <th>song_hotttnesss</th>\n",
       "      <th>song_id</th>\n",
       "      <th>title</th>\n",
       "      <th>track_id</th>\n",
       "      <th>preview_id</th>\n",
       "      <th>remote_preview_url</th>\n",
       "      <th>preview_artist</th>\n",
       "      <th>preview_title</th>\n",
       "      <th>preview_service</th>\n",
       "    </tr>\n",
       "  </thead>\n",
       "  <tbody>\n",
       "    <tr>\n",
       "      <th>457</th>\n",
       "      <td>ARBNU7D1187B9991A4</td>\n",
       "      <td>Truefaith</td>\n",
       "      <td>3ff1aa41092cdc72118ead443d38537f</td>\n",
       "      <td>NaN</td>\n",
       "      <td>SONJYOJ12A8C13D495</td>\n",
       "      <td>Here I Go Again</td>\n",
       "      <td>TRCCYMF128F428B188</td>\n",
       "      <td>tra.23243903</td>\n",
       "      <td>http://listen.vo.llnwd.net/g1/5/7/9/6/8/134486...</td>\n",
       "      <td>Draftpick</td>\n",
       "      <td>Here We Go Again</td>\n",
       "      <td>napster</td>\n",
       "    </tr>\n",
       "  </tbody>\n",
       "</table>\n",
       "</div>"
      ],
      "text/plain": [
       "              artist_id artist_name                         audio_md5  \\\n",
       "457  ARBNU7D1187B9991A4   Truefaith  3ff1aa41092cdc72118ead443d38537f   \n",
       "\n",
       "     song_hotttnesss             song_id            title            track_id  \\\n",
       "457              NaN  SONJYOJ12A8C13D495  Here I Go Again  TRCCYMF128F428B188   \n",
       "\n",
       "       preview_id                                 remote_preview_url  \\\n",
       "457  tra.23243903  http://listen.vo.llnwd.net/g1/5/7/9/6/8/134486...   \n",
       "\n",
       "    preview_artist     preview_title preview_service  \n",
       "457      Draftpick  Here We Go Again         napster  "
      ]
     },
     "execution_count": 182,
     "metadata": {},
     "output_type": "execute_result"
    }
   ],
   "source": [
    "df_meta[df_meta.song_id == 'SONJYOJ12A8C13D495']"
   ]
  },
  {
   "cell_type": "code",
   "execution_count": 184,
   "metadata": {},
   "outputs": [
    {
     "data": {
      "text/html": [
       "<div>\n",
       "<style scoped>\n",
       "    .dataframe tbody tr th:only-of-type {\n",
       "        vertical-align: middle;\n",
       "    }\n",
       "\n",
       "    .dataframe tbody tr th {\n",
       "        vertical-align: top;\n",
       "    }\n",
       "\n",
       "    .dataframe thead th {\n",
       "        text-align: right;\n",
       "    }\n",
       "</style>\n",
       "<table border=\"1\" class=\"dataframe\">\n",
       "  <thead>\n",
       "    <tr style=\"text-align: right;\">\n",
       "      <th></th>\n",
       "      <th>artist_id</th>\n",
       "      <th>artist_name</th>\n",
       "      <th>audio_md5</th>\n",
       "      <th>song_hotttnesss</th>\n",
       "      <th>song_id</th>\n",
       "      <th>title</th>\n",
       "      <th>track_id</th>\n",
       "      <th>preview_id</th>\n",
       "      <th>remote_preview_url</th>\n",
       "      <th>preview_artist</th>\n",
       "      <th>preview_title</th>\n",
       "      <th>preview_service</th>\n",
       "    </tr>\n",
       "  </thead>\n",
       "  <tbody>\n",
       "    <tr>\n",
       "      <th>10203</th>\n",
       "      <td>AR1UR7X1187FB50596</td>\n",
       "      <td>Inner City</td>\n",
       "      <td>d59282fc06bfafb1a5d02ab7970997f4</td>\n",
       "      <td>0.738459</td>\n",
       "      <td>SOPZQEP12A8C13BA51</td>\n",
       "      <td>Good Life</td>\n",
       "      <td>TRCXADO128F92DF704</td>\n",
       "      <td>tra.272416115</td>\n",
       "      <td>http://listen.vo.llnwd.net/g3/0/8/2/6/2/135502...</td>\n",
       "      <td>Inner City</td>\n",
       "      <td>Good Life 2017</td>\n",
       "      <td>napster</td>\n",
       "    </tr>\n",
       "  </tbody>\n",
       "</table>\n",
       "</div>"
      ],
      "text/plain": [
       "                artist_id artist_name                         audio_md5  \\\n",
       "10203  AR1UR7X1187FB50596  Inner City  d59282fc06bfafb1a5d02ab7970997f4   \n",
       "\n",
       "       song_hotttnesss             song_id      title            track_id  \\\n",
       "10203         0.738459  SOPZQEP12A8C13BA51  Good Life  TRCXADO128F92DF704   \n",
       "\n",
       "          preview_id                                 remote_preview_url  \\\n",
       "10203  tra.272416115  http://listen.vo.llnwd.net/g3/0/8/2/6/2/135502...   \n",
       "\n",
       "      preview_artist   preview_title preview_service  \n",
       "10203     Inner City  Good Life 2017         napster  "
      ]
     },
     "execution_count": 184,
     "metadata": {},
     "output_type": "execute_result"
    }
   ],
   "source": [
    "df_meta[df_meta.song_id == 'SOPZQEP12A8C13BA51']"
   ]
  },
  {
   "cell_type": "code",
   "execution_count": null,
   "metadata": {},
   "outputs": [],
   "source": []
  }
 ],
 "metadata": {
  "kernelspec": {
   "display_name": "Python 3",
   "language": "python",
   "name": "python3"
  },
  "language_info": {
   "codemirror_mode": {
    "name": "ipython",
    "version": 3
   },
   "file_extension": ".py",
   "mimetype": "text/x-python",
   "name": "python",
   "nbconvert_exporter": "python",
   "pygments_lexer": "ipython3",
   "version": "3.6.5"
  }
 },
 "nbformat": 4,
 "nbformat_minor": 2
}
